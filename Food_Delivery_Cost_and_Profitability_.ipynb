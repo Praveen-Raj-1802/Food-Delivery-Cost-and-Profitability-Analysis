{
  "nbformat": 4,
  "nbformat_minor": 0,
  "metadata": {
    "colab": {
      "provenance": []
    },
    "kernelspec": {
      "name": "python3",
      "display_name": "Python 3"
    },
    "language_info": {
      "name": "python"
    }
  },
  "cells": [
    {
      "cell_type": "code",
      "execution_count": null,
      "metadata": {
        "colab": {
          "base_uri": "https://localhost:8080/"
        },
        "id": "nDDIhRbit1Kj",
        "outputId": "d6098663-410a-466d-da50-12a3c4ef88db"
      },
      "outputs": [
        {
          "output_type": "stream",
          "name": "stdout",
          "text": [
            "Drive already mounted at /content/drive; to attempt to forcibly remount, call drive.mount(\"/content/drive\", force_remount=True).\n"
          ]
        }
      ],
      "source": [
        "import os\n",
        "from google.colab import drive\n",
        "drive.mount('/content/drive')\n",
        "os.chdir('/content/drive/My Drive/Data Science Projects/Food Delivery Cost and Profitability')"
      ]
    },
    {
      "cell_type": "code",
      "source": [
        "import pandas as pd\n",
        "food_orders = pd.read_csv('food_orders_new_delhi.csv')\n",
        "food_orders.head()"
      ],
      "metadata": {
        "colab": {
          "base_uri": "https://localhost:8080/",
          "height": 451
        },
        "id": "GPJvG3dIuzxh",
        "outputId": "f1509dba-a30d-4b30-cf3c-d3624776be88"
      },
      "execution_count": null,
      "outputs": [
        {
          "output_type": "execute_result",
          "data": {
            "text/plain": [
              "   Order ID Customer ID Restaurant ID  Order Date and Time  \\\n",
              "0         1       C8270         R2924  2024-02-01 01:11:52   \n",
              "1         2       C1860         R2054  2024-02-02 22:11:04   \n",
              "2         3       C6390         R2870  2024-01-31 05:54:35   \n",
              "3         4       C6191         R2642  2024-01-16 22:52:49   \n",
              "4         5       C6734         R2799  2024-01-29 01:19:30   \n",
              "\n",
              "  Delivery Date and Time  Order Value  Delivery Fee    Payment Method  \\\n",
              "0    2024-02-01 02:39:52         1914             0       Credit Card   \n",
              "1    2024-02-02 22:46:04          986            40    Digital Wallet   \n",
              "2    2024-01-31 06:52:35          937            30  Cash on Delivery   \n",
              "3    2024-01-16 23:38:49         1463            50  Cash on Delivery   \n",
              "4    2024-01-29 02:48:30         1992            30  Cash on Delivery   \n",
              "\n",
              "  Discounts and Offers  Commission Fee  Payment Processing Fee  \\\n",
              "0            5% on App             150                      47   \n",
              "1                  10%             198                      23   \n",
              "2         15% New User             195                      45   \n",
              "3                  NaN             146                      27   \n",
              "4         50 off Promo             130                      50   \n",
              "\n",
              "   Refunds/Chargebacks  \n",
              "0                    0  \n",
              "1                    0  \n",
              "2                    0  \n",
              "3                    0  \n",
              "4                    0  "
            ],
            "text/html": [
              "\n",
              "  <div id=\"df-2d45d6d2-1b60-41b9-8ad2-db59ea343d30\" class=\"colab-df-container\">\n",
              "    <div>\n",
              "<style scoped>\n",
              "    .dataframe tbody tr th:only-of-type {\n",
              "        vertical-align: middle;\n",
              "    }\n",
              "\n",
              "    .dataframe tbody tr th {\n",
              "        vertical-align: top;\n",
              "    }\n",
              "\n",
              "    .dataframe thead th {\n",
              "        text-align: right;\n",
              "    }\n",
              "</style>\n",
              "<table border=\"1\" class=\"dataframe\">\n",
              "  <thead>\n",
              "    <tr style=\"text-align: right;\">\n",
              "      <th></th>\n",
              "      <th>Order ID</th>\n",
              "      <th>Customer ID</th>\n",
              "      <th>Restaurant ID</th>\n",
              "      <th>Order Date and Time</th>\n",
              "      <th>Delivery Date and Time</th>\n",
              "      <th>Order Value</th>\n",
              "      <th>Delivery Fee</th>\n",
              "      <th>Payment Method</th>\n",
              "      <th>Discounts and Offers</th>\n",
              "      <th>Commission Fee</th>\n",
              "      <th>Payment Processing Fee</th>\n",
              "      <th>Refunds/Chargebacks</th>\n",
              "    </tr>\n",
              "  </thead>\n",
              "  <tbody>\n",
              "    <tr>\n",
              "      <th>0</th>\n",
              "      <td>1</td>\n",
              "      <td>C8270</td>\n",
              "      <td>R2924</td>\n",
              "      <td>2024-02-01 01:11:52</td>\n",
              "      <td>2024-02-01 02:39:52</td>\n",
              "      <td>1914</td>\n",
              "      <td>0</td>\n",
              "      <td>Credit Card</td>\n",
              "      <td>5% on App</td>\n",
              "      <td>150</td>\n",
              "      <td>47</td>\n",
              "      <td>0</td>\n",
              "    </tr>\n",
              "    <tr>\n",
              "      <th>1</th>\n",
              "      <td>2</td>\n",
              "      <td>C1860</td>\n",
              "      <td>R2054</td>\n",
              "      <td>2024-02-02 22:11:04</td>\n",
              "      <td>2024-02-02 22:46:04</td>\n",
              "      <td>986</td>\n",
              "      <td>40</td>\n",
              "      <td>Digital Wallet</td>\n",
              "      <td>10%</td>\n",
              "      <td>198</td>\n",
              "      <td>23</td>\n",
              "      <td>0</td>\n",
              "    </tr>\n",
              "    <tr>\n",
              "      <th>2</th>\n",
              "      <td>3</td>\n",
              "      <td>C6390</td>\n",
              "      <td>R2870</td>\n",
              "      <td>2024-01-31 05:54:35</td>\n",
              "      <td>2024-01-31 06:52:35</td>\n",
              "      <td>937</td>\n",
              "      <td>30</td>\n",
              "      <td>Cash on Delivery</td>\n",
              "      <td>15% New User</td>\n",
              "      <td>195</td>\n",
              "      <td>45</td>\n",
              "      <td>0</td>\n",
              "    </tr>\n",
              "    <tr>\n",
              "      <th>3</th>\n",
              "      <td>4</td>\n",
              "      <td>C6191</td>\n",
              "      <td>R2642</td>\n",
              "      <td>2024-01-16 22:52:49</td>\n",
              "      <td>2024-01-16 23:38:49</td>\n",
              "      <td>1463</td>\n",
              "      <td>50</td>\n",
              "      <td>Cash on Delivery</td>\n",
              "      <td>NaN</td>\n",
              "      <td>146</td>\n",
              "      <td>27</td>\n",
              "      <td>0</td>\n",
              "    </tr>\n",
              "    <tr>\n",
              "      <th>4</th>\n",
              "      <td>5</td>\n",
              "      <td>C6734</td>\n",
              "      <td>R2799</td>\n",
              "      <td>2024-01-29 01:19:30</td>\n",
              "      <td>2024-01-29 02:48:30</td>\n",
              "      <td>1992</td>\n",
              "      <td>30</td>\n",
              "      <td>Cash on Delivery</td>\n",
              "      <td>50 off Promo</td>\n",
              "      <td>130</td>\n",
              "      <td>50</td>\n",
              "      <td>0</td>\n",
              "    </tr>\n",
              "  </tbody>\n",
              "</table>\n",
              "</div>\n",
              "    <div class=\"colab-df-buttons\">\n",
              "\n",
              "  <div class=\"colab-df-container\">\n",
              "    <button class=\"colab-df-convert\" onclick=\"convertToInteractive('df-2d45d6d2-1b60-41b9-8ad2-db59ea343d30')\"\n",
              "            title=\"Convert this dataframe to an interactive table.\"\n",
              "            style=\"display:none;\">\n",
              "\n",
              "  <svg xmlns=\"http://www.w3.org/2000/svg\" height=\"24px\" viewBox=\"0 -960 960 960\">\n",
              "    <path d=\"M120-120v-720h720v720H120Zm60-500h600v-160H180v160Zm220 220h160v-160H400v160Zm0 220h160v-160H400v160ZM180-400h160v-160H180v160Zm440 0h160v-160H620v160ZM180-180h160v-160H180v160Zm440 0h160v-160H620v160Z\"/>\n",
              "  </svg>\n",
              "    </button>\n",
              "\n",
              "  <style>\n",
              "    .colab-df-container {\n",
              "      display:flex;\n",
              "      gap: 12px;\n",
              "    }\n",
              "\n",
              "    .colab-df-convert {\n",
              "      background-color: #E8F0FE;\n",
              "      border: none;\n",
              "      border-radius: 50%;\n",
              "      cursor: pointer;\n",
              "      display: none;\n",
              "      fill: #1967D2;\n",
              "      height: 32px;\n",
              "      padding: 0 0 0 0;\n",
              "      width: 32px;\n",
              "    }\n",
              "\n",
              "    .colab-df-convert:hover {\n",
              "      background-color: #E2EBFA;\n",
              "      box-shadow: 0px 1px 2px rgba(60, 64, 67, 0.3), 0px 1px 3px 1px rgba(60, 64, 67, 0.15);\n",
              "      fill: #174EA6;\n",
              "    }\n",
              "\n",
              "    .colab-df-buttons div {\n",
              "      margin-bottom: 4px;\n",
              "    }\n",
              "\n",
              "    [theme=dark] .colab-df-convert {\n",
              "      background-color: #3B4455;\n",
              "      fill: #D2E3FC;\n",
              "    }\n",
              "\n",
              "    [theme=dark] .colab-df-convert:hover {\n",
              "      background-color: #434B5C;\n",
              "      box-shadow: 0px 1px 3px 1px rgba(0, 0, 0, 0.15);\n",
              "      filter: drop-shadow(0px 1px 2px rgba(0, 0, 0, 0.3));\n",
              "      fill: #FFFFFF;\n",
              "    }\n",
              "  </style>\n",
              "\n",
              "    <script>\n",
              "      const buttonEl =\n",
              "        document.querySelector('#df-2d45d6d2-1b60-41b9-8ad2-db59ea343d30 button.colab-df-convert');\n",
              "      buttonEl.style.display =\n",
              "        google.colab.kernel.accessAllowed ? 'block' : 'none';\n",
              "\n",
              "      async function convertToInteractive(key) {\n",
              "        const element = document.querySelector('#df-2d45d6d2-1b60-41b9-8ad2-db59ea343d30');\n",
              "        const dataTable =\n",
              "          await google.colab.kernel.invokeFunction('convertToInteractive',\n",
              "                                                    [key], {});\n",
              "        if (!dataTable) return;\n",
              "\n",
              "        const docLinkHtml = 'Like what you see? Visit the ' +\n",
              "          '<a target=\"_blank\" href=https://colab.research.google.com/notebooks/data_table.ipynb>data table notebook</a>'\n",
              "          + ' to learn more about interactive tables.';\n",
              "        element.innerHTML = '';\n",
              "        dataTable['output_type'] = 'display_data';\n",
              "        await google.colab.output.renderOutput(dataTable, element);\n",
              "        const docLink = document.createElement('div');\n",
              "        docLink.innerHTML = docLinkHtml;\n",
              "        element.appendChild(docLink);\n",
              "      }\n",
              "    </script>\n",
              "  </div>\n",
              "\n",
              "\n",
              "<div id=\"df-00cbe14d-a49c-486f-9473-bba69a03efd3\">\n",
              "  <button class=\"colab-df-quickchart\" onclick=\"quickchart('df-00cbe14d-a49c-486f-9473-bba69a03efd3')\"\n",
              "            title=\"Suggest charts\"\n",
              "            style=\"display:none;\">\n",
              "\n",
              "<svg xmlns=\"http://www.w3.org/2000/svg\" height=\"24px\"viewBox=\"0 0 24 24\"\n",
              "     width=\"24px\">\n",
              "    <g>\n",
              "        <path d=\"M19 3H5c-1.1 0-2 .9-2 2v14c0 1.1.9 2 2 2h14c1.1 0 2-.9 2-2V5c0-1.1-.9-2-2-2zM9 17H7v-7h2v7zm4 0h-2V7h2v10zm4 0h-2v-4h2v4z\"/>\n",
              "    </g>\n",
              "</svg>\n",
              "  </button>\n",
              "\n",
              "<style>\n",
              "  .colab-df-quickchart {\n",
              "      --bg-color: #E8F0FE;\n",
              "      --fill-color: #1967D2;\n",
              "      --hover-bg-color: #E2EBFA;\n",
              "      --hover-fill-color: #174EA6;\n",
              "      --disabled-fill-color: #AAA;\n",
              "      --disabled-bg-color: #DDD;\n",
              "  }\n",
              "\n",
              "  [theme=dark] .colab-df-quickchart {\n",
              "      --bg-color: #3B4455;\n",
              "      --fill-color: #D2E3FC;\n",
              "      --hover-bg-color: #434B5C;\n",
              "      --hover-fill-color: #FFFFFF;\n",
              "      --disabled-bg-color: #3B4455;\n",
              "      --disabled-fill-color: #666;\n",
              "  }\n",
              "\n",
              "  .colab-df-quickchart {\n",
              "    background-color: var(--bg-color);\n",
              "    border: none;\n",
              "    border-radius: 50%;\n",
              "    cursor: pointer;\n",
              "    display: none;\n",
              "    fill: var(--fill-color);\n",
              "    height: 32px;\n",
              "    padding: 0;\n",
              "    width: 32px;\n",
              "  }\n",
              "\n",
              "  .colab-df-quickchart:hover {\n",
              "    background-color: var(--hover-bg-color);\n",
              "    box-shadow: 0 1px 2px rgba(60, 64, 67, 0.3), 0 1px 3px 1px rgba(60, 64, 67, 0.15);\n",
              "    fill: var(--button-hover-fill-color);\n",
              "  }\n",
              "\n",
              "  .colab-df-quickchart-complete:disabled,\n",
              "  .colab-df-quickchart-complete:disabled:hover {\n",
              "    background-color: var(--disabled-bg-color);\n",
              "    fill: var(--disabled-fill-color);\n",
              "    box-shadow: none;\n",
              "  }\n",
              "\n",
              "  .colab-df-spinner {\n",
              "    border: 2px solid var(--fill-color);\n",
              "    border-color: transparent;\n",
              "    border-bottom-color: var(--fill-color);\n",
              "    animation:\n",
              "      spin 1s steps(1) infinite;\n",
              "  }\n",
              "\n",
              "  @keyframes spin {\n",
              "    0% {\n",
              "      border-color: transparent;\n",
              "      border-bottom-color: var(--fill-color);\n",
              "      border-left-color: var(--fill-color);\n",
              "    }\n",
              "    20% {\n",
              "      border-color: transparent;\n",
              "      border-left-color: var(--fill-color);\n",
              "      border-top-color: var(--fill-color);\n",
              "    }\n",
              "    30% {\n",
              "      border-color: transparent;\n",
              "      border-left-color: var(--fill-color);\n",
              "      border-top-color: var(--fill-color);\n",
              "      border-right-color: var(--fill-color);\n",
              "    }\n",
              "    40% {\n",
              "      border-color: transparent;\n",
              "      border-right-color: var(--fill-color);\n",
              "      border-top-color: var(--fill-color);\n",
              "    }\n",
              "    60% {\n",
              "      border-color: transparent;\n",
              "      border-right-color: var(--fill-color);\n",
              "    }\n",
              "    80% {\n",
              "      border-color: transparent;\n",
              "      border-right-color: var(--fill-color);\n",
              "      border-bottom-color: var(--fill-color);\n",
              "    }\n",
              "    90% {\n",
              "      border-color: transparent;\n",
              "      border-bottom-color: var(--fill-color);\n",
              "    }\n",
              "  }\n",
              "</style>\n",
              "\n",
              "  <script>\n",
              "    async function quickchart(key) {\n",
              "      const quickchartButtonEl =\n",
              "        document.querySelector('#' + key + ' button');\n",
              "      quickchartButtonEl.disabled = true;  // To prevent multiple clicks.\n",
              "      quickchartButtonEl.classList.add('colab-df-spinner');\n",
              "      try {\n",
              "        const charts = await google.colab.kernel.invokeFunction(\n",
              "            'suggestCharts', [key], {});\n",
              "      } catch (error) {\n",
              "        console.error('Error during call to suggestCharts:', error);\n",
              "      }\n",
              "      quickchartButtonEl.classList.remove('colab-df-spinner');\n",
              "      quickchartButtonEl.classList.add('colab-df-quickchart-complete');\n",
              "    }\n",
              "    (() => {\n",
              "      let quickchartButtonEl =\n",
              "        document.querySelector('#df-00cbe14d-a49c-486f-9473-bba69a03efd3 button');\n",
              "      quickchartButtonEl.style.display =\n",
              "        google.colab.kernel.accessAllowed ? 'block' : 'none';\n",
              "    })();\n",
              "  </script>\n",
              "</div>\n",
              "\n",
              "    </div>\n",
              "  </div>\n"
            ],
            "application/vnd.google.colaboratory.intrinsic+json": {
              "type": "dataframe",
              "variable_name": "food_orders",
              "summary": "{\n  \"name\": \"food_orders\",\n  \"rows\": 1000,\n  \"fields\": [\n    {\n      \"column\": \"Order ID\",\n      \"properties\": {\n        \"dtype\": \"number\",\n        \"std\": 288,\n        \"min\": 1,\n        \"max\": 1000,\n        \"num_unique_values\": 1000,\n        \"samples\": [\n          522,\n          738,\n          741\n        ],\n        \"semantic_type\": \"\",\n        \"description\": \"\"\n      }\n    },\n    {\n      \"column\": \"Customer ID\",\n      \"properties\": {\n        \"dtype\": \"string\",\n        \"num_unique_values\": 947,\n        \"samples\": [\n          \"C2633\",\n          \"C9914\",\n          \"C2306\"\n        ],\n        \"semantic_type\": \"\",\n        \"description\": \"\"\n      }\n    },\n    {\n      \"column\": \"Restaurant ID\",\n      \"properties\": {\n        \"dtype\": \"string\",\n        \"num_unique_values\": 621,\n        \"samples\": [\n          \"R2181\",\n          \"R2351\",\n          \"R2531\"\n        ],\n        \"semantic_type\": \"\",\n        \"description\": \"\"\n      }\n    },\n    {\n      \"column\": \"Order Date and Time\",\n      \"properties\": {\n        \"dtype\": \"object\",\n        \"num_unique_values\": 1000,\n        \"samples\": [\n          \"2024-01-25 06:23:14\",\n          \"2024-01-21 06:19:00\",\n          \"2024-01-11 05:57:01\"\n        ],\n        \"semantic_type\": \"\",\n        \"description\": \"\"\n      }\n    },\n    {\n      \"column\": \"Delivery Date and Time\",\n      \"properties\": {\n        \"dtype\": \"object\",\n        \"num_unique_values\": 1000,\n        \"samples\": [\n          \"2024-01-25 07:20:14\",\n          \"2024-01-21 07:59:00\",\n          \"2024-01-11 06:52:01\"\n        ],\n        \"semantic_type\": \"\",\n        \"description\": \"\"\n      }\n    },\n    {\n      \"column\": \"Order Value\",\n      \"properties\": {\n        \"dtype\": \"number\",\n        \"std\": 530,\n        \"min\": 104,\n        \"max\": 1995,\n        \"num_unique_values\": 769,\n        \"samples\": [\n          1945,\n          1648,\n          1572\n        ],\n        \"semantic_type\": \"\",\n        \"description\": \"\"\n      }\n    },\n    {\n      \"column\": \"Delivery Fee\",\n      \"properties\": {\n        \"dtype\": \"number\",\n        \"std\": 16,\n        \"min\": 0,\n        \"max\": 50,\n        \"num_unique_values\": 5,\n        \"samples\": [\n          40,\n          20,\n          30\n        ],\n        \"semantic_type\": \"\",\n        \"description\": \"\"\n      }\n    },\n    {\n      \"column\": \"Payment Method\",\n      \"properties\": {\n        \"dtype\": \"category\",\n        \"num_unique_values\": 3,\n        \"samples\": [\n          \"Credit Card\",\n          \"Digital Wallet\",\n          \"Cash on Delivery\"\n        ],\n        \"semantic_type\": \"\",\n        \"description\": \"\"\n      }\n    },\n    {\n      \"column\": \"Discounts and Offers\",\n      \"properties\": {\n        \"dtype\": \"category\",\n        \"num_unique_values\": 4,\n        \"samples\": [\n          \"10%\",\n          \"50 off Promo\",\n          \"5% on App\"\n        ],\n        \"semantic_type\": \"\",\n        \"description\": \"\"\n      }\n    },\n    {\n      \"column\": \"Commission Fee\",\n      \"properties\": {\n        \"dtype\": \"number\",\n        \"std\": 43,\n        \"min\": 50,\n        \"max\": 200,\n        \"num_unique_values\": 151,\n        \"samples\": [\n          123,\n          119,\n          103\n        ],\n        \"semantic_type\": \"\",\n        \"description\": \"\"\n      }\n    },\n    {\n      \"column\": \"Payment Processing Fee\",\n      \"properties\": {\n        \"dtype\": \"number\",\n        \"std\": 11,\n        \"min\": 10,\n        \"max\": 50,\n        \"num_unique_values\": 41,\n        \"samples\": [\n          32,\n          28,\n          10\n        ],\n        \"semantic_type\": \"\",\n        \"description\": \"\"\n      }\n    },\n    {\n      \"column\": \"Refunds/Chargebacks\",\n      \"properties\": {\n        \"dtype\": \"number\",\n        \"std\": 49,\n        \"min\": 0,\n        \"max\": 150,\n        \"num_unique_values\": 4,\n        \"samples\": [\n          150,\n          100,\n          0\n        ],\n        \"semantic_type\": \"\",\n        \"description\": \"\"\n      }\n    }\n  ]\n}"
            }
          },
          "metadata": {},
          "execution_count": 3
        }
      ]
    },
    {
      "cell_type": "code",
      "source": [
        "food_orders.info()"
      ],
      "metadata": {
        "colab": {
          "base_uri": "https://localhost:8080/"
        },
        "id": "ZUd8Gc9GvnfN",
        "outputId": "32a6c8f8-d874-4c71-aa2f-cdb118f06d9d"
      },
      "execution_count": null,
      "outputs": [
        {
          "output_type": "stream",
          "name": "stdout",
          "text": [
            "<class 'pandas.core.frame.DataFrame'>\n",
            "RangeIndex: 1000 entries, 0 to 999\n",
            "Data columns (total 12 columns):\n",
            " #   Column                  Non-Null Count  Dtype \n",
            "---  ------                  --------------  ----- \n",
            " 0   Order ID                1000 non-null   int64 \n",
            " 1   Customer ID             1000 non-null   object\n",
            " 2   Restaurant ID           1000 non-null   object\n",
            " 3   Order Date and Time     1000 non-null   object\n",
            " 4   Delivery Date and Time  1000 non-null   object\n",
            " 5   Order Value             1000 non-null   int64 \n",
            " 6   Delivery Fee            1000 non-null   int64 \n",
            " 7   Payment Method          1000 non-null   object\n",
            " 8   Discounts and Offers    815 non-null    object\n",
            " 9   Commission Fee          1000 non-null   int64 \n",
            " 10  Payment Processing Fee  1000 non-null   int64 \n",
            " 11  Refunds/Chargebacks     1000 non-null   int64 \n",
            "dtypes: int64(6), object(6)\n",
            "memory usage: 93.9+ KB\n"
          ]
        }
      ]
    },
    {
      "cell_type": "code",
      "source": [
        "food_orders.isnull().sum()"
      ],
      "metadata": {
        "colab": {
          "base_uri": "https://localhost:8080/"
        },
        "id": "k5mTGR_FwOh2",
        "outputId": "123894fa-70e0-4e87-d889-562828e586d1"
      },
      "execution_count": null,
      "outputs": [
        {
          "output_type": "execute_result",
          "data": {
            "text/plain": [
              "Order ID                    0\n",
              "Customer ID                 0\n",
              "Restaurant ID               0\n",
              "Order Date and Time         0\n",
              "Delivery Date and Time      0\n",
              "Order Value                 0\n",
              "Delivery Fee                0\n",
              "Payment Method              0\n",
              "Discounts and Offers      185\n",
              "Commission Fee              0\n",
              "Payment Processing Fee      0\n",
              "Refunds/Chargebacks         0\n",
              "dtype: int64"
            ]
          },
          "metadata": {},
          "execution_count": 9
        }
      ]
    },
    {
      "cell_type": "code",
      "source": [
        "food_orders = food_orders.dropna()"
      ],
      "metadata": {
        "id": "jA72LWgMwhRc"
      },
      "execution_count": null,
      "outputs": []
    },
    {
      "cell_type": "code",
      "source": [
        "food_orders.isnull().sum()"
      ],
      "metadata": {
        "colab": {
          "base_uri": "https://localhost:8080/"
        },
        "id": "LUxC-d73w7As",
        "outputId": "6819954e-ed2b-4f48-ddd1-b209c03b781a"
      },
      "execution_count": null,
      "outputs": [
        {
          "output_type": "execute_result",
          "data": {
            "text/plain": [
              "Order ID                  0\n",
              "Customer ID               0\n",
              "Restaurant ID             0\n",
              "Order Date and Time       0\n",
              "Delivery Date and Time    0\n",
              "Order Value               0\n",
              "Delivery Fee              0\n",
              "Payment Method            0\n",
              "Discounts and Offers      0\n",
              "Commission Fee            0\n",
              "Payment Processing Fee    0\n",
              "Refunds/Chargebacks       0\n",
              "dtype: int64"
            ]
          },
          "metadata": {},
          "execution_count": 13
        }
      ]
    },
    {
      "cell_type": "markdown",
      "source": [
        "Convert “Order Date and Time” and “Delivery Date and Time” to a datetime format.\n",
        "Convert “Discounts and Offers” to a consistent numeric value (if applicable) or calculate the discount amounts."
      ],
      "metadata": {
        "id": "TXKX-siMxVZN"
      }
    },
    {
      "cell_type": "code",
      "source": [
        "food_orders['Order Date and Time'] = pd.to_datetime(food_orders['Order Date and Time'])\n",
        "food_orders['Delivery Date and Time'] = pd.to_datetime(food_orders['Delivery Date and Time'])\n",
        "\n",
        "def extract_discount(discount_str):\n",
        "    if 'off' in discount_str:\n",
        "        return float(discount_str.split(' ')[0])\n",
        "\n",
        "    elif '%' in discount_str:\n",
        "        return float(discount_str.split('%')[0])\n",
        "\n",
        "    else:\n",
        "        return 0.0\n",
        "\n",
        "food_orders['Discount Percentage'] = food_orders['Discounts and Offers'].apply(lambda x: extract_discount(x))\n",
        "\n",
        "food_orders['Discount Amount'] = food_orders.apply(lambda x: (x['Order Value'] * x['Discount Percentage']/100) if x['Discount Percentage'] > 1 else x['Discount Percentage'], axis=1)\n",
        "food_orders['Discount Amount'] = food_orders.apply(lambda x : x['Discount Amount'] if x['Discount Percentage']<=1 else x['Order Value']*x['Discount Percentage']/100, axis=1)\n",
        "food_orders[['Order Value','Discounts and Offers','Discount Percentage','Discount Amount']].head()"
      ],
      "metadata": {
        "colab": {
          "base_uri": "https://localhost:8080/",
          "height": 746
        },
        "id": "Pw3hM9frxSNc",
        "outputId": "cb65f7ca-a721-4304-e2b6-90cbece0cebc"
      },
      "execution_count": null,
      "outputs": [
        {
          "output_type": "stream",
          "name": "stderr",
          "text": [
            "<ipython-input-18-15953a587561>:1: SettingWithCopyWarning: \n",
            "A value is trying to be set on a copy of a slice from a DataFrame.\n",
            "Try using .loc[row_indexer,col_indexer] = value instead\n",
            "\n",
            "See the caveats in the documentation: https://pandas.pydata.org/pandas-docs/stable/user_guide/indexing.html#returning-a-view-versus-a-copy\n",
            "  food_orders['Order Date and Time'] = pd.to_datetime(food_orders['Order Date and Time'])\n",
            "<ipython-input-18-15953a587561>:2: SettingWithCopyWarning: \n",
            "A value is trying to be set on a copy of a slice from a DataFrame.\n",
            "Try using .loc[row_indexer,col_indexer] = value instead\n",
            "\n",
            "See the caveats in the documentation: https://pandas.pydata.org/pandas-docs/stable/user_guide/indexing.html#returning-a-view-versus-a-copy\n",
            "  food_orders['Delivery Date and Time'] = pd.to_datetime(food_orders['Delivery Date and Time'])\n",
            "<ipython-input-18-15953a587561>:14: SettingWithCopyWarning: \n",
            "A value is trying to be set on a copy of a slice from a DataFrame.\n",
            "Try using .loc[row_indexer,col_indexer] = value instead\n",
            "\n",
            "See the caveats in the documentation: https://pandas.pydata.org/pandas-docs/stable/user_guide/indexing.html#returning-a-view-versus-a-copy\n",
            "  food_orders['Discount Percentage'] = food_orders['Discounts and Offers'].apply(lambda x: extract_discount(x))\n",
            "<ipython-input-18-15953a587561>:16: SettingWithCopyWarning: \n",
            "A value is trying to be set on a copy of a slice from a DataFrame.\n",
            "Try using .loc[row_indexer,col_indexer] = value instead\n",
            "\n",
            "See the caveats in the documentation: https://pandas.pydata.org/pandas-docs/stable/user_guide/indexing.html#returning-a-view-versus-a-copy\n",
            "  food_orders['Discount Amount'] = food_orders.apply(lambda x: (x['Order Value'] * x['Discount Percentage']/100) if x['Discount Percentage'] > 1 else x['Discount Percentage'], axis=1)\n",
            "<ipython-input-18-15953a587561>:17: SettingWithCopyWarning: \n",
            "A value is trying to be set on a copy of a slice from a DataFrame.\n",
            "Try using .loc[row_indexer,col_indexer] = value instead\n",
            "\n",
            "See the caveats in the documentation: https://pandas.pydata.org/pandas-docs/stable/user_guide/indexing.html#returning-a-view-versus-a-copy\n",
            "  food_orders['Discount Amount'] = food_orders.apply(lambda x : x['Discount Amount'] if x['Discount Percentage']<=1 else x['Order Value']*x['Discount Percentage']/100, axis=1)\n"
          ]
        },
        {
          "output_type": "execute_result",
          "data": {
            "text/plain": [
              "   Order Value Discounts and Offers  Discount Percentage  Discount Amount\n",
              "0         1914            5% on App                  5.0            95.70\n",
              "1          986                  10%                 10.0            98.60\n",
              "2          937         15% New User                 15.0           140.55\n",
              "4         1992         50 off Promo                 50.0           996.00\n",
              "5          439                  10%                 10.0            43.90"
            ],
            "text/html": [
              "\n",
              "  <div id=\"df-cbc82eff-9abb-4984-8b0b-185ad503446d\" class=\"colab-df-container\">\n",
              "    <div>\n",
              "<style scoped>\n",
              "    .dataframe tbody tr th:only-of-type {\n",
              "        vertical-align: middle;\n",
              "    }\n",
              "\n",
              "    .dataframe tbody tr th {\n",
              "        vertical-align: top;\n",
              "    }\n",
              "\n",
              "    .dataframe thead th {\n",
              "        text-align: right;\n",
              "    }\n",
              "</style>\n",
              "<table border=\"1\" class=\"dataframe\">\n",
              "  <thead>\n",
              "    <tr style=\"text-align: right;\">\n",
              "      <th></th>\n",
              "      <th>Order Value</th>\n",
              "      <th>Discounts and Offers</th>\n",
              "      <th>Discount Percentage</th>\n",
              "      <th>Discount Amount</th>\n",
              "    </tr>\n",
              "  </thead>\n",
              "  <tbody>\n",
              "    <tr>\n",
              "      <th>0</th>\n",
              "      <td>1914</td>\n",
              "      <td>5% on App</td>\n",
              "      <td>5.0</td>\n",
              "      <td>95.70</td>\n",
              "    </tr>\n",
              "    <tr>\n",
              "      <th>1</th>\n",
              "      <td>986</td>\n",
              "      <td>10%</td>\n",
              "      <td>10.0</td>\n",
              "      <td>98.60</td>\n",
              "    </tr>\n",
              "    <tr>\n",
              "      <th>2</th>\n",
              "      <td>937</td>\n",
              "      <td>15% New User</td>\n",
              "      <td>15.0</td>\n",
              "      <td>140.55</td>\n",
              "    </tr>\n",
              "    <tr>\n",
              "      <th>4</th>\n",
              "      <td>1992</td>\n",
              "      <td>50 off Promo</td>\n",
              "      <td>50.0</td>\n",
              "      <td>996.00</td>\n",
              "    </tr>\n",
              "    <tr>\n",
              "      <th>5</th>\n",
              "      <td>439</td>\n",
              "      <td>10%</td>\n",
              "      <td>10.0</td>\n",
              "      <td>43.90</td>\n",
              "    </tr>\n",
              "  </tbody>\n",
              "</table>\n",
              "</div>\n",
              "    <div class=\"colab-df-buttons\">\n",
              "\n",
              "  <div class=\"colab-df-container\">\n",
              "    <button class=\"colab-df-convert\" onclick=\"convertToInteractive('df-cbc82eff-9abb-4984-8b0b-185ad503446d')\"\n",
              "            title=\"Convert this dataframe to an interactive table.\"\n",
              "            style=\"display:none;\">\n",
              "\n",
              "  <svg xmlns=\"http://www.w3.org/2000/svg\" height=\"24px\" viewBox=\"0 -960 960 960\">\n",
              "    <path d=\"M120-120v-720h720v720H120Zm60-500h600v-160H180v160Zm220 220h160v-160H400v160Zm0 220h160v-160H400v160ZM180-400h160v-160H180v160Zm440 0h160v-160H620v160ZM180-180h160v-160H180v160Zm440 0h160v-160H620v160Z\"/>\n",
              "  </svg>\n",
              "    </button>\n",
              "\n",
              "  <style>\n",
              "    .colab-df-container {\n",
              "      display:flex;\n",
              "      gap: 12px;\n",
              "    }\n",
              "\n",
              "    .colab-df-convert {\n",
              "      background-color: #E8F0FE;\n",
              "      border: none;\n",
              "      border-radius: 50%;\n",
              "      cursor: pointer;\n",
              "      display: none;\n",
              "      fill: #1967D2;\n",
              "      height: 32px;\n",
              "      padding: 0 0 0 0;\n",
              "      width: 32px;\n",
              "    }\n",
              "\n",
              "    .colab-df-convert:hover {\n",
              "      background-color: #E2EBFA;\n",
              "      box-shadow: 0px 1px 2px rgba(60, 64, 67, 0.3), 0px 1px 3px 1px rgba(60, 64, 67, 0.15);\n",
              "      fill: #174EA6;\n",
              "    }\n",
              "\n",
              "    .colab-df-buttons div {\n",
              "      margin-bottom: 4px;\n",
              "    }\n",
              "\n",
              "    [theme=dark] .colab-df-convert {\n",
              "      background-color: #3B4455;\n",
              "      fill: #D2E3FC;\n",
              "    }\n",
              "\n",
              "    [theme=dark] .colab-df-convert:hover {\n",
              "      background-color: #434B5C;\n",
              "      box-shadow: 0px 1px 3px 1px rgba(0, 0, 0, 0.15);\n",
              "      filter: drop-shadow(0px 1px 2px rgba(0, 0, 0, 0.3));\n",
              "      fill: #FFFFFF;\n",
              "    }\n",
              "  </style>\n",
              "\n",
              "    <script>\n",
              "      const buttonEl =\n",
              "        document.querySelector('#df-cbc82eff-9abb-4984-8b0b-185ad503446d button.colab-df-convert');\n",
              "      buttonEl.style.display =\n",
              "        google.colab.kernel.accessAllowed ? 'block' : 'none';\n",
              "\n",
              "      async function convertToInteractive(key) {\n",
              "        const element = document.querySelector('#df-cbc82eff-9abb-4984-8b0b-185ad503446d');\n",
              "        const dataTable =\n",
              "          await google.colab.kernel.invokeFunction('convertToInteractive',\n",
              "                                                    [key], {});\n",
              "        if (!dataTable) return;\n",
              "\n",
              "        const docLinkHtml = 'Like what you see? Visit the ' +\n",
              "          '<a target=\"_blank\" href=https://colab.research.google.com/notebooks/data_table.ipynb>data table notebook</a>'\n",
              "          + ' to learn more about interactive tables.';\n",
              "        element.innerHTML = '';\n",
              "        dataTable['output_type'] = 'display_data';\n",
              "        await google.colab.output.renderOutput(dataTable, element);\n",
              "        const docLink = document.createElement('div');\n",
              "        docLink.innerHTML = docLinkHtml;\n",
              "        element.appendChild(docLink);\n",
              "      }\n",
              "    </script>\n",
              "  </div>\n",
              "\n",
              "\n",
              "<div id=\"df-14683d83-b06c-4a32-a1f8-96f839d3d68e\">\n",
              "  <button class=\"colab-df-quickchart\" onclick=\"quickchart('df-14683d83-b06c-4a32-a1f8-96f839d3d68e')\"\n",
              "            title=\"Suggest charts\"\n",
              "            style=\"display:none;\">\n",
              "\n",
              "<svg xmlns=\"http://www.w3.org/2000/svg\" height=\"24px\"viewBox=\"0 0 24 24\"\n",
              "     width=\"24px\">\n",
              "    <g>\n",
              "        <path d=\"M19 3H5c-1.1 0-2 .9-2 2v14c0 1.1.9 2 2 2h14c1.1 0 2-.9 2-2V5c0-1.1-.9-2-2-2zM9 17H7v-7h2v7zm4 0h-2V7h2v10zm4 0h-2v-4h2v4z\"/>\n",
              "    </g>\n",
              "</svg>\n",
              "  </button>\n",
              "\n",
              "<style>\n",
              "  .colab-df-quickchart {\n",
              "      --bg-color: #E8F0FE;\n",
              "      --fill-color: #1967D2;\n",
              "      --hover-bg-color: #E2EBFA;\n",
              "      --hover-fill-color: #174EA6;\n",
              "      --disabled-fill-color: #AAA;\n",
              "      --disabled-bg-color: #DDD;\n",
              "  }\n",
              "\n",
              "  [theme=dark] .colab-df-quickchart {\n",
              "      --bg-color: #3B4455;\n",
              "      --fill-color: #D2E3FC;\n",
              "      --hover-bg-color: #434B5C;\n",
              "      --hover-fill-color: #FFFFFF;\n",
              "      --disabled-bg-color: #3B4455;\n",
              "      --disabled-fill-color: #666;\n",
              "  }\n",
              "\n",
              "  .colab-df-quickchart {\n",
              "    background-color: var(--bg-color);\n",
              "    border: none;\n",
              "    border-radius: 50%;\n",
              "    cursor: pointer;\n",
              "    display: none;\n",
              "    fill: var(--fill-color);\n",
              "    height: 32px;\n",
              "    padding: 0;\n",
              "    width: 32px;\n",
              "  }\n",
              "\n",
              "  .colab-df-quickchart:hover {\n",
              "    background-color: var(--hover-bg-color);\n",
              "    box-shadow: 0 1px 2px rgba(60, 64, 67, 0.3), 0 1px 3px 1px rgba(60, 64, 67, 0.15);\n",
              "    fill: var(--button-hover-fill-color);\n",
              "  }\n",
              "\n",
              "  .colab-df-quickchart-complete:disabled,\n",
              "  .colab-df-quickchart-complete:disabled:hover {\n",
              "    background-color: var(--disabled-bg-color);\n",
              "    fill: var(--disabled-fill-color);\n",
              "    box-shadow: none;\n",
              "  }\n",
              "\n",
              "  .colab-df-spinner {\n",
              "    border: 2px solid var(--fill-color);\n",
              "    border-color: transparent;\n",
              "    border-bottom-color: var(--fill-color);\n",
              "    animation:\n",
              "      spin 1s steps(1) infinite;\n",
              "  }\n",
              "\n",
              "  @keyframes spin {\n",
              "    0% {\n",
              "      border-color: transparent;\n",
              "      border-bottom-color: var(--fill-color);\n",
              "      border-left-color: var(--fill-color);\n",
              "    }\n",
              "    20% {\n",
              "      border-color: transparent;\n",
              "      border-left-color: var(--fill-color);\n",
              "      border-top-color: var(--fill-color);\n",
              "    }\n",
              "    30% {\n",
              "      border-color: transparent;\n",
              "      border-left-color: var(--fill-color);\n",
              "      border-top-color: var(--fill-color);\n",
              "      border-right-color: var(--fill-color);\n",
              "    }\n",
              "    40% {\n",
              "      border-color: transparent;\n",
              "      border-right-color: var(--fill-color);\n",
              "      border-top-color: var(--fill-color);\n",
              "    }\n",
              "    60% {\n",
              "      border-color: transparent;\n",
              "      border-right-color: var(--fill-color);\n",
              "    }\n",
              "    80% {\n",
              "      border-color: transparent;\n",
              "      border-right-color: var(--fill-color);\n",
              "      border-bottom-color: var(--fill-color);\n",
              "    }\n",
              "    90% {\n",
              "      border-color: transparent;\n",
              "      border-bottom-color: var(--fill-color);\n",
              "    }\n",
              "  }\n",
              "</style>\n",
              "\n",
              "  <script>\n",
              "    async function quickchart(key) {\n",
              "      const quickchartButtonEl =\n",
              "        document.querySelector('#' + key + ' button');\n",
              "      quickchartButtonEl.disabled = true;  // To prevent multiple clicks.\n",
              "      quickchartButtonEl.classList.add('colab-df-spinner');\n",
              "      try {\n",
              "        const charts = await google.colab.kernel.invokeFunction(\n",
              "            'suggestCharts', [key], {});\n",
              "      } catch (error) {\n",
              "        console.error('Error during call to suggestCharts:', error);\n",
              "      }\n",
              "      quickchartButtonEl.classList.remove('colab-df-spinner');\n",
              "      quickchartButtonEl.classList.add('colab-df-quickchart-complete');\n",
              "    }\n",
              "    (() => {\n",
              "      let quickchartButtonEl =\n",
              "        document.querySelector('#df-14683d83-b06c-4a32-a1f8-96f839d3d68e button');\n",
              "      quickchartButtonEl.style.display =\n",
              "        google.colab.kernel.accessAllowed ? 'block' : 'none';\n",
              "    })();\n",
              "  </script>\n",
              "</div>\n",
              "\n",
              "    </div>\n",
              "  </div>\n"
            ],
            "application/vnd.google.colaboratory.intrinsic+json": {
              "type": "dataframe",
              "summary": "{\n  \"name\": \"food_orders[['Order Value','Discounts and Offers','Discount Percentage','Discount Amount']]\",\n  \"rows\": 5,\n  \"fields\": [\n    {\n      \"column\": \"Order Value\",\n      \"properties\": {\n        \"dtype\": \"number\",\n        \"std\": 673,\n        \"min\": 439,\n        \"max\": 1992,\n        \"num_unique_values\": 5,\n        \"samples\": [\n          986,\n          439,\n          937\n        ],\n        \"semantic_type\": \"\",\n        \"description\": \"\"\n      }\n    },\n    {\n      \"column\": \"Discounts and Offers\",\n      \"properties\": {\n        \"dtype\": \"string\",\n        \"num_unique_values\": 4,\n        \"samples\": [\n          \"10%\",\n          \"50 off Promo\",\n          \"5% on App\"\n        ],\n        \"semantic_type\": \"\",\n        \"description\": \"\"\n      }\n    },\n    {\n      \"column\": \"Discount Percentage\",\n      \"properties\": {\n        \"dtype\": \"number\",\n        \"std\": 18.23458252881047,\n        \"min\": 5.0,\n        \"max\": 50.0,\n        \"num_unique_values\": 4,\n        \"samples\": [\n          10.0,\n          50.0,\n          5.0\n        ],\n        \"semantic_type\": \"\",\n        \"description\": \"\"\n      }\n    },\n    {\n      \"column\": \"Discount Amount\",\n      \"properties\": {\n        \"dtype\": \"number\",\n        \"std\": 404.5338212065834,\n        \"min\": 43.9,\n        \"max\": 996.0,\n        \"num_unique_values\": 5,\n        \"samples\": [\n          98.6,\n          43.9,\n          140.55\n        ],\n        \"semantic_type\": \"\",\n        \"description\": \"\"\n      }\n    }\n  ]\n}"
            }
          },
          "metadata": {},
          "execution_count": 18
        }
      ]
    },
    {
      "cell_type": "code",
      "source": [
        "food_orders['Total Costs'] = food_orders['Delivery Fee'] + food_orders['Payment Processing Fee'] + food_orders['Discount Amount']\n",
        "food_orders['Revenue'] = food_orders['Commission Fee']\n",
        "food_orders['Profit'] = food_orders['Revenue'] - food_orders['Total Costs']\n",
        "\n",
        "total_orders = food_orders.shape[0]\n",
        "total_revenue = food_orders['Revenue'].sum()\n",
        "total_profit = food_orders['Profit'].sum()\n",
        "total_costs = food_orders['Total Costs'].sum()\n",
        "\n",
        "overall_metrics = {\n",
        "    'Total Orders': total_orders,\n",
        "    'Total Revenue': total_revenue,\n",
        "    'Total Costs': total_costs,\n",
        "    'Total Profit': total_profit\n",
        "}\n",
        "print(overall_metrics)"
      ],
      "metadata": {
        "colab": {
          "base_uri": "https://localhost:8080/"
        },
        "id": "N8en72v-xAWY",
        "outputId": "f6e76103-ced9-4f7c-9687-9f2f85931538"
      },
      "execution_count": null,
      "outputs": [
        {
          "output_type": "stream",
          "name": "stdout",
          "text": [
            "{'Total Orders': 815, 'Total Revenue': 103798, 'Total Costs': 221741.84999999998, 'Total Profit': -117943.84999999998}\n"
          ]
        },
        {
          "output_type": "stream",
          "name": "stderr",
          "text": [
            "<ipython-input-22-3965e3f2f739>:1: SettingWithCopyWarning: \n",
            "A value is trying to be set on a copy of a slice from a DataFrame.\n",
            "Try using .loc[row_indexer,col_indexer] = value instead\n",
            "\n",
            "See the caveats in the documentation: https://pandas.pydata.org/pandas-docs/stable/user_guide/indexing.html#returning-a-view-versus-a-copy\n",
            "  food_orders['Total Costs'] = food_orders['Delivery Fee'] + food_orders['Payment Processing Fee'] + food_orders['Discount Amount']\n",
            "<ipython-input-22-3965e3f2f739>:2: SettingWithCopyWarning: \n",
            "A value is trying to be set on a copy of a slice from a DataFrame.\n",
            "Try using .loc[row_indexer,col_indexer] = value instead\n",
            "\n",
            "See the caveats in the documentation: https://pandas.pydata.org/pandas-docs/stable/user_guide/indexing.html#returning-a-view-versus-a-copy\n",
            "  food_orders['Revenue'] = food_orders['Commission Fee']\n",
            "<ipython-input-22-3965e3f2f739>:3: SettingWithCopyWarning: \n",
            "A value is trying to be set on a copy of a slice from a DataFrame.\n",
            "Try using .loc[row_indexer,col_indexer] = value instead\n",
            "\n",
            "See the caveats in the documentation: https://pandas.pydata.org/pandas-docs/stable/user_guide/indexing.html#returning-a-view-versus-a-copy\n",
            "  food_orders['Profit'] = food_orders['Revenue'] - food_orders['Total Costs']\n"
          ]
        }
      ]
    },
    {
      "cell_type": "markdown",
      "source": [
        "Distribution of costs, revenue and profit"
      ],
      "metadata": {
        "id": "PzimViqI64gl"
      }
    },
    {
      "cell_type": "code",
      "source": [
        "import matplotlib.pyplot as plt\n",
        "\n",
        "plt.figure(figsize=(10, 6))\n",
        "plt.hist(food_orders['Profit'],bins=30,edgecolor = 'black')\n",
        "plt.xlabel('Profit')\n",
        "plt.ylabel('Number of Orders')\n",
        "plt.axvline(x=food_orders['Profit'].mean(), color='r', linestyle='dashed', linewidth=2)\n",
        "plt.title('Distribution of Profit')\n",
        "plt.show()"
      ],
      "metadata": {
        "colab": {
          "base_uri": "https://localhost:8080/",
          "height": 432
        },
        "id": "s5F33Ei_zurY",
        "outputId": "2b864a51-dd44-4d82-d269-4d5499d01c24"
      },
      "execution_count": null,
      "outputs": [
        {
          "output_type": "display_data",
          "data": {
            "text/plain": [
              "<Figure size 1000x600 with 1 Axes>"
            ],
            "image/png": "[encoded data removed]"
          },
          "metadata": {}
        }
      ]
    },
    {
      "cell_type": "markdown",
      "source": [
        "Proportion of total costs"
      ],
      "metadata": {
        "id": "J4UOGL7x8It-"
      }
    },
    {
      "cell_type": "code",
      "source": [
        "costs_breakdown = food_orders[['Delivery Fee', 'Payment Processing Fee', 'Discount Amount']].sum()\n",
        "plt.figure(figsize=(8, 6))\n",
        "plt.pie(costs_breakdown, labels=costs_breakdown.index, autopct='%1.1f%%', startangle=140, colors = ['tomato','gold','lightblue'])\n",
        "plt.title('Proportion of Total Costs')\n",
        "plt.show()"
      ],
      "metadata": {
        "colab": {
          "base_uri": "https://localhost:8080/",
          "height": 478
        },
        "id": "iNCh0Brr7un1",
        "outputId": "34995936-cc6c-41bc-9e7a-46987bc0cbbf"
      },
      "execution_count": null,
      "outputs": [
        {
          "output_type": "display_data",
          "data": {
            "text/plain": [
              "<Figure size 800x600 with 1 Axes>"
            ],
            "image/png": "[encoded data removed]"
          },
          "metadata": {}
        }
      ]
    },
    {
      "cell_type": "code",
      "source": [
        "totals = ['Total Revenue', 'Total Costs', 'Total Profit']\n",
        "values = [total_revenue, total_costs, total_profit]\n",
        "\n",
        "plt.figure(figsize=(8, 6))\n",
        "plt.bar(totals, values, color=['green', 'red', 'blue'])\n",
        "plt.xlabel('Metrics')\n",
        "plt.ylabel('Amount')\n",
        "plt.title('Comparison of Metrics')\n",
        "plt.show()"
      ],
      "metadata": {
        "colab": {
          "base_uri": "https://localhost:8080/",
          "height": 498
        },
        "id": "2eSDj_fI8box",
        "outputId": "4f81c15e-00fb-4cdb-c437-d44769af3087"
      },
      "execution_count": null,
      "outputs": [
        {
          "output_type": "display_data",
          "data": {
            "text/plain": [
              "<Figure size 800x600 with 1 Axes>"
            ],
            "image/png": "[encoded data removed]"
          },
          "metadata": {}
        }
      ]
    },
    {
      "cell_type": "markdown",
      "source": [
        "#NEW Profitable Strategy"
      ],
      "metadata": {
        "id": "gECdp66Q-2Wf"
      }
    },
    {
      "cell_type": "code",
      "source": [
        "profitable_orders = food_orders[food_orders['Profit'] > 0]\n",
        "\n",
        "profitable_orders['Commission Percentage'] = (profitable_orders['Commission Fee'] / profitable_orders['Order Value']) * 100\n",
        "profitable_orders['Discount Percentage'] = (profitable_orders['Discount Amount'] / profitable_orders['Order Value']) * 100\n",
        "\n",
        "new_avg_commission_percentage = profitable_orders['Commission Percentage'].mean()\n",
        "new_avg_discount_percentage = profitable_orders['Discount Percentage'].mean()\n",
        "print(new_avg_commission_percentage, new_avg_discount_percentage)"
      ],
      "metadata": {
        "colab": {
          "base_uri": "https://localhost:8080/"
        },
        "id": "IFHvw-3Z-fkZ",
        "outputId": "a6c4db31-d172-4900-d1f2-cd428ce8204f"
      },
      "execution_count": null,
      "outputs": [
        {
          "output_type": "stream",
          "name": "stdout",
          "text": [
            "36.99030453177021 9.938775510204081\n"
          ]
        },
        {
          "output_type": "stream",
          "name": "stderr",
          "text": [
            "<ipython-input-28-44605d8fb1cd>:3: SettingWithCopyWarning: \n",
            "A value is trying to be set on a copy of a slice from a DataFrame.\n",
            "Try using .loc[row_indexer,col_indexer] = value instead\n",
            "\n",
            "See the caveats in the documentation: https://pandas.pydata.org/pandas-docs/stable/user_guide/indexing.html#returning-a-view-versus-a-copy\n",
            "  profitable_orders['Commission Percentage'] = (profitable_orders['Commission Fee'] / profitable_orders['Order Value']) * 100\n",
            "<ipython-input-28-44605d8fb1cd>:4: SettingWithCopyWarning: \n",
            "A value is trying to be set on a copy of a slice from a DataFrame.\n",
            "Try using .loc[row_indexer,col_indexer] = value instead\n",
            "\n",
            "See the caveats in the documentation: https://pandas.pydata.org/pandas-docs/stable/user_guide/indexing.html#returning-a-view-versus-a-copy\n",
            "  profitable_orders['Discount Percentage'] = (profitable_orders['Discount Amount'] / profitable_orders['Order Value']) * 100\n"
          ]
        }
      ]
    },
    {
      "cell_type": "code",
      "source": [
        "recommended_commission_percentage = 37.0\n",
        "recommended_discount_percentage = 10.0\n",
        "\n",
        "food_orders['Simulated Commision Fee']  = food_orders['Order Value'] * recommended_commission_percentage / 100\n",
        "food_orders['Simulated Discount Amount'] = food_orders['Order Value'] * recommended_discount_percentage / 100\n",
        "\n",
        "food_orders['Simulated Total Costs'] = food_orders['Delivery Fee'] + food_orders['Payment Processing Fee'] + food_orders['Simulated Discount Amount']\n",
        "food_orders['Simulated Revenue'] = food_orders['Commission Fee']\n",
        "food_orders['Simulated Profit'] = food_orders['Simulated Revenue'] - food_orders['Simulated Total Costs']\n",
        "\n",
        "import seaborn as sns\n",
        "\n",
        "plt.figure(figsize=(14,7))\n",
        "\n",
        "sns.kdeplot(food_orders['Profit'],label=\"Actual Profit\",fill=True)\n",
        "sns.kdeplot(food_orders['Simulated Profit'],label=\"Simulated Profit\",fill=True)\n",
        "\n",
        "plt.xlabel('Profit')\n",
        "plt.ylabel('Density')\n",
        "plt.title('Comparison of Actual and Simulated Profit')\n",
        "plt.legend()\n",
        "plt.show()"
      ],
      "metadata": {
        "colab": {
          "base_uri": "https://localhost:8080/",
          "height": 357
        },
        "id": "ygCBinqYAHkf",
        "outputId": "9d9c1bbb-efbd-4b99-d38a-4d0ad0d09aa0"
      },
      "execution_count": null,
      "outputs": [
        {
          "output_type": "display_data",
          "data": {
            "text/plain": [
              "<Figure size 1400x700 with 1 Axes>"
            ],
            "image/png": "[encoded data removed]"
          },
          "metadata": {}
        }
      ]
    }
  ]
}